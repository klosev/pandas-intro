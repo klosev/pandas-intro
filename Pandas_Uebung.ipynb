{
 "cells": [
  {
   "cell_type": "markdown",
   "metadata": {},
   "source": [
    "# Übung zur Einführung in Pandas"
   ]
  },
  {
   "cell_type": "markdown",
   "metadata": {},
   "source": [
    "### Import\n",
    "**A.** Importieren Sie die notwendigen Bibliotheken, um mit Python-Datensätzen arbeiten und insbesondere auch SQLite Datenbanken einlesen zu können!"
   ]
  },
  {
   "cell_type": "code",
   "execution_count": null,
   "metadata": {
    "collapsed": true
   },
   "outputs": [],
   "source": []
  },
  {
   "cell_type": "markdown",
   "metadata": {},
   "source": [
    "### SQL Datenbank einlesen\n",
    "**B.** Lesen Sie die Daten der in Chicago abgeschleppten Fahrzeuge aus der SQLite-Datenbank `data/towed.db` ein und sorgen Sie dabei dafür, dass das Datum in der `date`-Spalte auch als solches gelesen wird!\n",
    "\n",
    "**Hinweise**\n",
    "1. die Dokumentation zu `pandas.io.sql.read_sql()` findet man [hier](http://pandas.pydata.org/pandas-docs/stable/generated/pandas.read_sql.html)\n",
    "2. das `strftime`-kompatible Datumsformat ist hier `%m/%d/%Y`"
   ]
  },
  {
   "cell_type": "code",
   "execution_count": null,
   "metadata": {
    "collapsed": true
   },
   "outputs": [],
   "source": []
  },
  {
   "cell_type": "markdown",
   "metadata": {},
   "source": [
    "## Pandas und SQL\n",
    "Die folgenden Aufgaben sollten Sie möglichst parallel mit SQL lösen, indem Sie z.B. die gerade eingelesene Datenbank mit einer SQLite GUI öffnen und entsprechende SQL-Statements ausführen! Das SQL-Äquivalent sollten Sie immer hier angeben!"
   ]
  },
  {
   "cell_type": "markdown",
   "metadata": {},
   "source": [
    "### Überblick über die Daten\n",
    "**C.** Schauen Sie zunächst \n",
    "1. die ersten 5 Datensätze,\n",
    "2. dann die Datensätze 100 - 104 an und\n",
    "3. informieren Sie sich dann über die *Struktur* des Datensatzes!"
   ]
  },
  {
   "cell_type": "markdown",
   "metadata": {},
   "source": [
    "#### SQL-Äquivalent\n",
    "```SQL\n",
    "SELECT\n",
    "```"
   ]
  },
  {
   "cell_type": "code",
   "execution_count": null,
   "metadata": {},
   "outputs": [],
   "source": []
  },
  {
   "cell_type": "markdown",
   "metadata": {},
   "source": [
    "#### SQL-Äquivalent\n",
    "```SQL\n",
    "SELECT\n",
    "```"
   ]
  },
  {
   "cell_type": "code",
   "execution_count": null,
   "metadata": {},
   "outputs": [],
   "source": []
  },
  {
   "cell_type": "markdown",
   "metadata": {},
   "source": [
    "#### SQL-Äquivalent\n",
    "```SQL\n",
    "SELECT\n",
    "```"
   ]
  },
  {
   "cell_type": "code",
   "execution_count": null,
   "metadata": {},
   "outputs": [],
   "source": []
  },
  {
   "cell_type": "code",
   "execution_count": null,
   "metadata": {},
   "outputs": [],
   "source": []
  },
  {
   "cell_type": "markdown",
   "metadata": {},
   "source": [
    "### Erste Abfragen\n",
    "**D.** Zeigen Sie die am 4.11.2014 abgeschleppten Fahrzeuge an"
   ]
  },
  {
   "cell_type": "markdown",
   "metadata": {},
   "source": [
    "#### SQL-Äquivalent\n",
    "```SQL\n",
    "SELECT\n",
    "```"
   ]
  },
  {
   "cell_type": "code",
   "execution_count": null,
   "metadata": {},
   "outputs": [],
   "source": []
  },
  {
   "cell_type": "markdown",
   "metadata": {},
   "source": [
    "### Indexe\n",
    "**E.** Benutzen Sie die Datumsspalte als Index!"
   ]
  },
  {
   "cell_type": "code",
   "execution_count": null,
   "metadata": {
    "collapsed": true
   },
   "outputs": [],
   "source": []
  },
  {
   "cell_type": "markdown",
   "metadata": {},
   "source": [
    "### Weitere Abfragen\n",
    "**F.1.** Zeigen Sie die Informationen über die am 4.11.2014 abgeschleppten Fahrzeuge an (erste 5 Zeilen)."
   ]
  },
  {
   "cell_type": "markdown",
   "metadata": {},
   "source": [
    "#### SQL-Äquivalent\n",
    "```SQL\n",
    "SELECT \n",
    "```"
   ]
  },
  {
   "cell_type": "code",
   "execution_count": null,
   "metadata": {},
   "outputs": [],
   "source": []
  },
  {
   "cell_type": "markdown",
   "metadata": {},
   "source": [
    "**F.2** Zeigen Sie das Datum und die Marken der am 4.11.2014 abgeschleppten Fahrzeuge an"
   ]
  },
  {
   "cell_type": "markdown",
   "metadata": {},
   "source": [
    "#### SQL-Äquivalent\n",
    "```SQL\n",
    "SELECT\n",
    "```"
   ]
  },
  {
   "cell_type": "code",
   "execution_count": null,
   "metadata": {},
   "outputs": [],
   "source": []
  },
  {
   "cell_type": "markdown",
   "metadata": {},
   "source": [
    "**F.3** Zeigen Sie das Datum, die Marke, die Farbe und den Bundesstaat der abgeschleppten Fahrzeuge an (erste 5 Zeilen)"
   ]
  },
  {
   "cell_type": "markdown",
   "metadata": {},
   "source": [
    "#### SQL-Äquivalent\n",
    "```SQL\n",
    "SELECT\n",
    "```"
   ]
  },
  {
   "cell_type": "code",
   "execution_count": null,
   "metadata": {},
   "outputs": [],
   "source": []
  },
  {
   "cell_type": "markdown",
   "metadata": {},
   "source": [
    "### Filterbedingungen\n",
    "**F.4** Zeigen Sie die abgeschleppten FORDs an (absteigend nach den Bundesstaaten geordnet)"
   ]
  },
  {
   "cell_type": "markdown",
   "metadata": {},
   "source": [
    "#### SQL-Äquivalent\n",
    "```SQL\n",
    "SELECT \n",
    "```"
   ]
  },
  {
   "cell_type": "code",
   "execution_count": null,
   "metadata": {},
   "outputs": [],
   "source": []
  },
  {
   "cell_type": "markdown",
   "metadata": {},
   "source": [
    "**F.5** Zeigen Sie alle schwarzen Abgeschleppten aus dem Staat **MI**chigan an!"
   ]
  },
  {
   "cell_type": "markdown",
   "metadata": {},
   "source": [
    "#### SQL-Äquivalent\n",
    "```SQL\n",
    "SELECT\n",
    "```"
   ]
  },
  {
   "cell_type": "code",
   "execution_count": null,
   "metadata": {},
   "outputs": [],
   "source": []
  },
  {
   "cell_type": "markdown",
   "metadata": {},
   "source": [
    "**F.6** Zeigen Sie alle abgeschleppten **PORS**che oder **N**ew **Y**orker an (geordnet nach Marke (aufsteigend) und Farbe (absteigend))!"
   ]
  },
  {
   "cell_type": "markdown",
   "metadata": {},
   "source": [
    "#### SQL-Äquivalent\n",
    "```SQL\n",
    "SELECT\n",
    "```"
   ]
  },
  {
   "cell_type": "code",
   "execution_count": null,
   "metadata": {},
   "outputs": [],
   "source": []
  },
  {
   "cell_type": "markdown",
   "metadata": {},
   "source": [
    "### Maskierung\n",
    "**F.7** Legen Sie eine Filtermakske an für die Fahrzeuge mit 4D-Stil aus **IL**linnois!"
   ]
  },
  {
   "cell_type": "markdown",
   "metadata": {},
   "source": [
    "#### SQL-Äquivalent\n",
    "```SQL\n",
    "CREATE VIEW \n",
    "```"
   ]
  },
  {
   "cell_type": "code",
   "execution_count": null,
   "metadata": {},
   "outputs": [],
   "source": []
  },
  {
   "cell_type": "markdown",
   "metadata": {},
   "source": [
    "**F.8** Stellen Sie fest, wie viele abgeschleppte Fahrzeuge die Bedingung erfüllen!"
   ]
  },
  {
   "cell_type": "markdown",
   "metadata": {},
   "source": [
    "#### SQL-Äquivalent\n",
    "```SQL\n",
    "SELECT \n",
    "```"
   ]
  },
  {
   "cell_type": "code",
   "execution_count": null,
   "metadata": {},
   "outputs": [],
   "source": []
  },
  {
   "cell_type": "markdown",
   "metadata": {},
   "source": [
    "**F.9** Zeigen Sie das Datum, den Hersteller, das Modell und die Farbe der in abgeschleppten 4D-Fahrzeuge aus Illinois an!"
   ]
  },
  {
   "cell_type": "markdown",
   "metadata": {},
   "source": [
    "#### SQL-Äquivalent\n",
    "```SQL\n",
    "SELECT \n",
    "```"
   ]
  },
  {
   "cell_type": "code",
   "execution_count": null,
   "metadata": {},
   "outputs": [],
   "source": []
  },
  {
   "cell_type": "markdown",
   "metadata": {},
   "source": [
    "### Gruppierung\n",
    "**G.1** Erzeugen Sie ein Objekt, welches die abgeschleppten Fahrzeuge nach Bundesstaaten gruppiert"
   ]
  },
  {
   "cell_type": "code",
   "execution_count": null,
   "metadata": {},
   "outputs": [],
   "source": []
  },
  {
   "cell_type": "markdown",
   "metadata": {},
   "source": [
    "**G.2** Zählen Sie die Werte in den einzelnen Spalten gemäß der Gruppierung (erste 5 Datensätze)!"
   ]
  },
  {
   "cell_type": "markdown",
   "metadata": {},
   "source": [
    "#### SQL-Äquivalent\n",
    "```SQL\n",
    "SELECT \n",
    "```"
   ]
  },
  {
   "cell_type": "code",
   "execution_count": null,
   "metadata": {},
   "outputs": [],
   "source": []
  },
  {
   "cell_type": "markdown",
   "metadata": {},
   "source": [
    "**G.3** Zählen Sie die Anzahl der Datensätze gemäß der Gruppierung (letzte 5 Datensätze)!"
   ]
  },
  {
   "cell_type": "markdown",
   "metadata": {},
   "source": [
    "#### SQL-Äquivalent\n",
    "```SQL\n",
    "SELECT \n",
    "```"
   ]
  },
  {
   "cell_type": "code",
   "execution_count": null,
   "metadata": {},
   "outputs": [],
   "source": []
  },
  {
   "cell_type": "markdown",
   "metadata": {},
   "source": [
    "**G.4** Zeigen Sie die 10 Staaten mit den meisten abgeschleppten *verschiedenen* Fahrzeugen an (`plate` identifiziert das Fahrzeug)!"
   ]
  },
  {
   "cell_type": "markdown",
   "metadata": {},
   "source": [
    "#### SQL-Äquivalent\n",
    "```SQL\n",
    "SELECT \n",
    "```"
   ]
  },
  {
   "cell_type": "code",
   "execution_count": null,
   "metadata": {},
   "outputs": [],
   "source": []
  },
  {
   "cell_type": "markdown",
   "metadata": {},
   "source": [
    "## Analyseaufgabe\n",
    "Generieren Sie einen Datensatz / eine Tabelle mit den US-Bundesstaaten und deren Entfernung zu Chicago. Verbinden Sie diesen mit dem Datensatz / der Tabelle `towed`. Ermitteln Sie dann den Zusammenhang zwischen den Entfernungen und der Anzahl der abgeschleppten Fahrzeuge aus den einzelnen Staaten.\n",
    "\n",
    "**Hinweise**\n",
    "1. Sie können als Entfernungen der Staaten zu Chicago einfach die Entfernungen zwischen Chicago und den Hauptstädten der Bundesstaaten nehmen (oder eine andere sinnvolle Approximation)\n",
    "2. Wenn Sie die Tabelle zunächst als Textdatei (csv) generieren, dann können Sie die sehr einfach sowohl in Python, asl auch in MySQL oder SQLite importieren und damit wieder SQL und Python parallel verwenden."
   ]
  },
  {
   "cell_type": "markdown",
   "metadata": {},
   "source": [
    "#### SQL-Äquivalent\n",
    "```SQL\n",
    "SELECT \n",
    "```"
   ]
  },
  {
   "cell_type": "code",
   "execution_count": null,
   "metadata": {
    "collapsed": true
   },
   "outputs": [],
   "source": []
  }
 ],
 "metadata": {
  "kernelspec": {
   "display_name": "Python 3",
   "language": "python",
   "name": "python3"
  },
  "language_info": {
   "codemirror_mode": {
    "name": "ipython",
    "version": 3
   },
   "file_extension": ".py",
   "mimetype": "text/x-python",
   "name": "python",
   "nbconvert_exporter": "python",
   "pygments_lexer": "ipython3",
   "version": "3.6.0"
  }
 },
 "nbformat": 4,
 "nbformat_minor": 1
}
