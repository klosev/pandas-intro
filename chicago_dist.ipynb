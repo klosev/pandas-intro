{
 "cells": [
  {
   "cell_type": "markdown",
   "metadata": {},
   "source": [
    "## Data Preparation für die Pandas-Analyseaufgabe\n",
    "Zur Datenvorverarbeitung wird eine Kombination aus Pandas und SQL (mit SQLite) verwendet ('whatever works ...')"
   ]
  },
  {
   "cell_type": "code",
   "execution_count": 1,
   "metadata": {
    "collapsed": true
   },
   "outputs": [],
   "source": [
    "import pandas as pd"
   ]
  },
  {
   "cell_type": "markdown",
   "metadata": {},
   "source": [
    "Quelle: [https://www.timeanddate.com/worldclock/distances.html?n=64]\n",
    "\n",
    "**Anpassungen**\n",
    "1. Spaltennamen\n",
    "2. Einheiten bei den Entfernungen"
   ]
  },
  {
   "cell_type": "code",
   "execution_count": 2,
   "metadata": {},
   "outputs": [
    {
     "data": {
      "text/html": [
       "<div>\n",
       "<table border=\"1\" class=\"dataframe\">\n",
       "  <thead>\n",
       "    <tr style=\"text-align: right;\">\n",
       "      <th></th>\n",
       "      <th>Location</th>\n",
       "      <th>Local time</th>\n",
       "      <th>Unnamed: 2</th>\n",
       "      <th>Distance</th>\n",
       "      <th>Unnamed: 4</th>\n",
       "      <th>Direction</th>\n",
       "    </tr>\n",
       "  </thead>\n",
       "  <tbody>\n",
       "    <tr>\n",
       "      <th>0</th>\n",
       "      <td>USA - Illinois - Chicago *</td>\n",
       "      <td>Fri 09:12</td>\n",
       "      <td>-</td>\n",
       "      <td>-</td>\n",
       "      <td>-</td>\n",
       "      <td>NaN</td>\n",
       "    </tr>\n",
       "    <tr>\n",
       "      <th>1</th>\n",
       "      <td>USA - Illinois - Evanston *</td>\n",
       "      <td>Fri 09:12</td>\n",
       "      <td>19 km</td>\n",
       "      <td>12 miles</td>\n",
       "      <td>10 nm</td>\n",
       "      <td>North-northwest NNW</td>\n",
       "    </tr>\n",
       "    <tr>\n",
       "      <th>2</th>\n",
       "      <td>USA - Indiana - Hammond *</td>\n",
       "      <td>Fri 09:12</td>\n",
       "      <td>32 km</td>\n",
       "      <td>20 miles</td>\n",
       "      <td>17 nm</td>\n",
       "      <td>South-southeast SSE</td>\n",
       "    </tr>\n",
       "    <tr>\n",
       "      <th>3</th>\n",
       "      <td>USA - Illinois - Orland Park *</td>\n",
       "      <td>Fri 09:12</td>\n",
       "      <td>34 km</td>\n",
       "      <td>21 miles</td>\n",
       "      <td>18 nm</td>\n",
       "      <td>South-southwest SSW</td>\n",
       "    </tr>\n",
       "    <tr>\n",
       "      <th>4</th>\n",
       "      <td>USA - Indiana - Gary *</td>\n",
       "      <td>Fri 09:12</td>\n",
       "      <td>40 km</td>\n",
       "      <td>25 miles</td>\n",
       "      <td>21 nm</td>\n",
       "      <td>Southeast SE</td>\n",
       "    </tr>\n",
       "  </tbody>\n",
       "</table>\n",
       "</div>"
      ],
      "text/plain": [
       "                         Location Local time Unnamed: 2  Distance Unnamed: 4  \\\n",
       "0      USA - Illinois - Chicago *  Fri 09:12          -         -          -   \n",
       "1     USA - Illinois - Evanston *  Fri 09:12      19 km  12 miles      10 nm   \n",
       "2       USA - Indiana - Hammond *  Fri 09:12      32 km  20 miles      17 nm   \n",
       "3  USA - Illinois - Orland Park *  Fri 09:12      34 km  21 miles      18 nm   \n",
       "4          USA - Indiana - Gary *  Fri 09:12      40 km  25 miles      21 nm   \n",
       "\n",
       "             Direction  \n",
       "0                  NaN  \n",
       "1  North-northwest NNW  \n",
       "2  South-southeast SSE  \n",
       "3  South-southwest SSW  \n",
       "4         Southeast SE  "
      ]
     },
     "execution_count": 2,
     "metadata": {},
     "output_type": "execute_result"
    }
   ],
   "source": [
    "chicago_dist = pd.read_clipboard()\n",
    "chicago_dist.head()"
   ]
  },
  {
   "cell_type": "code",
   "execution_count": 3,
   "metadata": {
    "collapsed": true
   },
   "outputs": [],
   "source": [
    "chicago_dist.to_csv('chicago_dist.csv', sep='|', encoding='utf-8') \n",
    "# dann im Editor nachbearbeiten ..."
   ]
  },
  {
   "cell_type": "markdown",
   "metadata": {},
   "source": [
    "Mit *Suchen & Ersetzen* kann man im Editor am einfachsten die `Location` Spalte weiter aufteilen in `Country, State, City` und ferner noch die Spaltenüberschriften für die Distanzen anpassen in `Distance_km, Distance_mil, Distance_nm`. Außerdem kann man leicht die Entfernungseinheiten los werden und auch etwaige Leerzeichen ...\n",
    "\n",
    "#### Nächster Schritt: US-Bundesstaaten mit Abkürzungen\n",
    "Quelle: [http://bigdave44.com/features/the-mine/us-states-abbreviations-capitals-nicknames/]"
   ]
  },
  {
   "cell_type": "code",
   "execution_count": 5,
   "metadata": {},
   "outputs": [
    {
     "data": {
      "text/html": [
       "<div>\n",
       "<table border=\"1\" class=\"dataframe\">\n",
       "  <thead>\n",
       "    <tr style=\"text-align: right;\">\n",
       "      <th></th>\n",
       "      <th>State</th>\n",
       "      <th>Abbrv.</th>\n",
       "      <th>Capital</th>\n",
       "      <th>Nickname</th>\n",
       "    </tr>\n",
       "  </thead>\n",
       "  <tbody>\n",
       "    <tr>\n",
       "      <th>0</th>\n",
       "      <td>Alabama</td>\n",
       "      <td>AL</td>\n",
       "      <td>Montgomery</td>\n",
       "      <td>Yellowhammer State, Heart of Dixie, Camellia S...</td>\n",
       "    </tr>\n",
       "    <tr>\n",
       "      <th>1</th>\n",
       "      <td>Alaska</td>\n",
       "      <td>AK</td>\n",
       "      <td>Juneau</td>\n",
       "      <td>The Last Frontier</td>\n",
       "    </tr>\n",
       "    <tr>\n",
       "      <th>2</th>\n",
       "      <td>Arizona</td>\n",
       "      <td>AZ</td>\n",
       "      <td>Phoenix</td>\n",
       "      <td>Grand Canyon State, Copper State</td>\n",
       "    </tr>\n",
       "    <tr>\n",
       "      <th>3</th>\n",
       "      <td>Arkansas</td>\n",
       "      <td>AR</td>\n",
       "      <td>Little Rock</td>\n",
       "      <td>The Natural State, Land of Opportunity, The Ra...</td>\n",
       "    </tr>\n",
       "    <tr>\n",
       "      <th>4</th>\n",
       "      <td>California</td>\n",
       "      <td>CA</td>\n",
       "      <td>Sacramento</td>\n",
       "      <td>Golden State</td>\n",
       "    </tr>\n",
       "  </tbody>\n",
       "</table>\n",
       "</div>"
      ],
      "text/plain": [
       "        State  Abbrv.       Capital   \\\n",
       "0     Alabama      AL    Montgomery    \n",
       "1      Alaska      AK        Juneau    \n",
       "2     Arizona      AZ       Phoenix    \n",
       "3    Arkansas      AR   Little Rock    \n",
       "4  California      CA    Sacramento    \n",
       "\n",
       "                                            Nickname  \n",
       "0  Yellowhammer State, Heart of Dixie, Camellia S...  \n",
       "1                                  The Last Frontier  \n",
       "2                   Grand Canyon State, Copper State  \n",
       "3  The Natural State, Land of Opportunity, The Ra...  \n",
       "4                                       Golden State  "
      ]
     },
     "execution_count": 5,
     "metadata": {},
     "output_type": "execute_result"
    }
   ],
   "source": [
    "us_states = pd.read_clipboard()\n",
    "us_states.head()"
   ]
  },
  {
   "cell_type": "code",
   "execution_count": 6,
   "metadata": {
    "collapsed": true
   },
   "outputs": [],
   "source": [
    "us_states.to_csv('us_states.csv', sep='|', encoding='utf-8')"
   ]
  },
  {
   "cell_type": "markdown",
   "metadata": {
    "collapsed": true
   },
   "source": [
    "#### Weitere Schritte\n",
    "Die (bearbeiteten) `csv`-Dateien werden dann in eine SQLite-Datenbank `chicago_dist.db`importiert. Aus der Tabelle `chicago_dist` werden anschließend alle Informationen entfernt, die sich nicht auf Kanada oder die USA beziehen. Ferner wird geprüft, ob es zu allen US-Bundesstaaten mindestens eine Entfernungsangabe gibt. Es stellt sich dann heraus, dass dies für Oregon nicht der Fall ist.\n",
    "\n",
    "Fehlende Entfernung nach Oregon: [http://www.distance-cities.com/distance-portland-or-to-chicago-il]\n",
    "\n",
    "Diese fehlende Entfernung wird mit einem `INSERT`-Statement eingefügt und schließlich die folgende Sicht erzeugt, die man später im Rahmen der Übungsaufgabe einlesen kann:\n",
    "```SQL\n",
    "CREATE VIEW state_to_chicago AS\n",
    "SELECT Abbrv AS state, ROUND(AVG(Distance_mil),0) AS distance\n",
    "FROM us_states us LEFT JOIN chicago_dist cd ON us.State = cd.State\n",
    "GROUP BY Abbrv;\n",
    "```"
   ]
  },
  {
   "cell_type": "code",
   "execution_count": null,
   "metadata": {
    "collapsed": true
   },
   "outputs": [],
   "source": []
  }
 ],
 "metadata": {
  "kernelspec": {
   "display_name": "Python 3",
   "language": "python",
   "name": "python3"
  },
  "language_info": {
   "codemirror_mode": {
    "name": "ipython",
    "version": 3
   },
   "file_extension": ".py",
   "mimetype": "text/x-python",
   "name": "python",
   "nbconvert_exporter": "python",
   "pygments_lexer": "ipython3",
   "version": "3.6.0"
  }
 },
 "nbformat": 4,
 "nbformat_minor": 2
}
